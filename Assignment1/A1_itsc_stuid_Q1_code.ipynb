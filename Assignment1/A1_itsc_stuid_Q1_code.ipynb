{
 "cells": [
  {
   "cell_type": "code",
   "execution_count": 1,
   "metadata": {},
   "outputs": [],
   "source": [
    "dataset=[[1,2,4],[1,2,9],[1,3,5],[1,3,9],[1,4,7],[1,5,8],[1,6,7],[1,7,9],[1,8,9],\n",
    "         [2,3,5],[2,4,7],[2,5,6],[2,5,7],[2,5,8],[2,6,7],[2,6,8],[2,6,9],[2,7,8],\n",
    "         [3,4,5],[3,4,7],[3,5,7],[3,5,8],[3,6,8],[3,7,9],[3,8,9],\n",
    "         [4,5,7],[4,5,8],[4,6,7],[4,6,9],[4,7,8],\n",
    "         [5,6,7],[5,7,9],[5,8,9],\n",
    "         [6,7,8],[6,7,9]]\n",
    "maxleafsize=3"
   ]
  },
  {
   "cell_type": "code",
   "execution_count": 2,
   "metadata": {},
   "outputs": [],
   "source": [
    "class treenode:                    #tree node\n",
    "    def __init__(self,value,parent):\n",
    "        self.value=[]              #the node's candidate items\n",
    "        self.parent=parent         #parent node\n",
    "        self.leftchildren=None     #left child node\n",
    "        self.rightchildren=None    #right child node\n",
    "        self.middlechildren=None   #middle child node"
   ]
  },
  {
   "cell_type": "code",
   "execution_count": 3,
   "metadata": {},
   "outputs": [],
   "source": [
    "def updatahashtree(dataset,node,maxleafsize,local):\n",
    "    if local>=3:                                         #local>3 the hash tree is full\n",
    "        exit()\n",
    "    for i in dataset:\n",
    "        if i[local]%3==1:                                #if mod is 1,put it to left child tree\n",
    "            if node.leftchildren==None:\n",
    "                node.leftchildren=treenode([],node)\n",
    "            node.leftchildren.value.append(i)\n",
    "        elif i[local]%3==2:                             #if mod is 2,put it to middle child tree\n",
    "            if node.middlechildren==None:\n",
    "                node.middlechildren=treenode([],node)\n",
    "            node.middlechildren.value.append(i)\n",
    "        elif i[local]%3==0:                             #f mod is 0,put it to right child tree\n",
    "            if node.rightchildren==None:\n",
    "                node.rightchildren=treenode([],node)\n",
    "            node.rightchildren.value.append(i)\n",
    "    local=local+1\n",
    "    #if the length of node's items >3, recursive invocation updatahashtree function to generate hash tree\n",
    "    if len(node.leftchildren.value)>maxleafsize:\n",
    "        updatahashtree(node.leftchildren.value,node.leftchildren,maxleafsize,local)\n",
    "    if len(node.middlechildren.value)>maxleafsize:\n",
    "        updatahashtree(node.middlechildren.value,node.middlechildren,maxleafsize,local)\n",
    "    if len(node.rightchildren.value)>maxleafsize:\n",
    "        updatahashtree(node.rightchildren.value,node.rightchildren,maxleafsize,local)\n"
   ]
  },
  {
   "cell_type": "code",
   "execution_count": 4,
   "metadata": {},
   "outputs": [],
   "source": [
    "def printtree(node):\n",
    "    if node.leftchildren!=None:\n",
    "        if len(node.leftchildren.value)<=3:\n",
    "            if len(node.leftchildren.value)==1:               #只有一个元素直接打印，不带\"[]\"\"\n",
    "                print(node.leftchildren.value[0],end='')      #2和3个元素打印list，元素带\"[]\"\n",
    "            else:\n",
    "                print(node.leftchildren.value,end='')         #如果数量大于3则继续遍历，向下打印子树\n",
    "        else:\n",
    "            print('[',end='')\n",
    "            printtree(node.leftchildren)\n",
    "            print(']',end='')\n",
    "        print(', ',end='')\n",
    "    if node.middlechildren!=None:\n",
    "        if len(node.middlechildren.value)<=3:\n",
    "            if len(node.middlechildren.value)==1:\n",
    "                print(node.middlechildren.value[0],end='')\n",
    "            else:\n",
    "                print(node.middlechildren.value,end='')\n",
    "        else:\n",
    "            print('[',end='')\n",
    "            printtree(node.middlechildren)\n",
    "            print(']',end='')\n",
    "        print(', ',end='')\n",
    "    if node.rightchildren!=None:\n",
    "        if len(node.rightchildren.value)<=3:\n",
    "            if len(node.rightchildren.value)==1:\n",
    "                print(node.rightchildren.value[0],end='')\n",
    "            else:\n",
    "                print(node.rightchildren.value,end='')\n",
    "        else:\n",
    "            print('[',end='')\n",
    "            printtree(node.rightchildren)\n",
    "            print(']',end='')\n"
   ]
  },
  {
   "cell_type": "code",
   "execution_count": 5,
   "metadata": {},
   "outputs": [],
   "source": [
    "rootnode=treenode([],None)\n",
    "local=0\n",
    "updatahashtree(dataset,rootnode,maxleafsize,local)\n",
    "\n",
    "\n",
    "        \n",
    "        \n",
    "        "
   ]
  },
  {
   "cell_type": "code",
   "execution_count": 6,
   "metadata": {},
   "outputs": [
    {
     "name": "stdout",
     "output_type": "stream",
     "text": [
      "[[[1, 4, 7], [1, 7, 9], [4, 7, 8]], [[[1, 2, 4], [4, 5, 7]], [[1, 5, 8], [4, 5, 8]], [[1, 2, 9], [1, 8, 9]]], [[[1, 6, 7], [4, 6, 7]], [1, 3, 5], [[1, 3, 9], [4, 6, 9]]]], [[[2, 4, 7], [2, 7, 8], [5, 7, 9]], [[2, 5, 7], [2, 5, 8], [[2, 5, 6], [5, 8, 9]]], [[[2, 6, 7], [5, 6, 7]], [[2, 3, 5], [2, 6, 8]], [2, 6, 9]]], [[[3, 4, 7], [[3, 4, 5], [6, 7, 8]], [[3, 7, 9], [6, 7, 9]]], [[3, 5, 7], [3, 5, 8], [3, 8, 9]], [3, 6, 8]]"
     ]
    }
   ],
   "source": [
    "printtree(rootnode)"
   ]
  },
  {
   "cell_type": "code",
   "execution_count": null,
   "metadata": {},
   "outputs": [],
   "source": []
  }
 ],
 "metadata": {
  "kernelspec": {
   "display_name": "Python 3",
   "language": "python",
   "name": "python3"
  },
  "language_info": {
   "codemirror_mode": {
    "name": "ipython",
    "version": 3
   },
   "file_extension": ".py",
   "mimetype": "text/x-python",
   "name": "python",
   "nbconvert_exporter": "python",
   "pygments_lexer": "ipython3",
   "version": "3.6.5"
  }
 },
 "nbformat": 4,
 "nbformat_minor": 2
}
